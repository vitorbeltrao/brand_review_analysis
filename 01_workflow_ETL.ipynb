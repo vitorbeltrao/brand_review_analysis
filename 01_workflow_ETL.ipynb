{
 "cells": [
  {
   "attachments": {},
   "cell_type": "markdown",
   "metadata": {},
   "source": [
    "# ETL Pipeline"
   ]
  },
  {
   "attachments": {},
   "cell_type": "markdown",
   "metadata": {},
   "source": [
    "## Extract Data"
   ]
  },
  {
   "cell_type": "code",
   "execution_count": 3,
   "metadata": {},
   "outputs": [
    {
     "name": "stdout",
     "output_type": "stream",
     "text": [
      "Collecting tweepyNote: you may need to restart the kernel to use updated packages.\n",
      "\n",
      "  Using cached tweepy-4.12.1-py3-none-any.whl (101 kB)\n",
      "Collecting oauthlib<4,>=3.2.0\n",
      "  Using cached oauthlib-3.2.2-py3-none-any.whl (151 kB)\n",
      "Collecting requests<3,>=2.27.0\n",
      "  Using cached requests-2.28.2-py3-none-any.whl (62 kB)\n",
      "Collecting requests-oauthlib<2,>=1.2.0\n",
      "  Using cached requests_oauthlib-1.3.1-py2.py3-none-any.whl (23 kB)\n",
      "Collecting charset-normalizer<4,>=2\n",
      "  Downloading charset_normalizer-3.0.1-cp311-cp311-win_amd64.whl (96 kB)\n",
      "     ---------------------------------------- 96.0/96.0 kB 1.8 MB/s eta 0:00:00\n",
      "Collecting idna<4,>=2.5\n",
      "  Using cached idna-3.4-py3-none-any.whl (61 kB)\n",
      "Collecting urllib3<1.27,>=1.21.1\n",
      "  Using cached urllib3-1.26.14-py2.py3-none-any.whl (140 kB)\n",
      "Collecting certifi>=2017.4.17\n",
      "  Using cached certifi-2022.12.7-py3-none-any.whl (155 kB)\n",
      "Installing collected packages: charset-normalizer, urllib3, oauthlib, idna, certifi, requests, requests-oauthlib, tweepy\n",
      "Successfully installed certifi-2022.12.7 charset-normalizer-3.0.1 idna-3.4 oauthlib-3.2.2 requests-2.28.2 requests-oauthlib-1.3.1 tweepy-4.12.1 urllib3-1.26.14\n",
      "Collecting python-decouple\n",
      "  Using cached python_decouple-3.7-py3-none-any.whl (9.9 kB)\n",
      "Installing collected packages: python-decouple\n",
      "Successfully installed python-decouple-3.7\n",
      "Note: you may need to restart the kernel to use updated packages.\n"
     ]
    }
   ],
   "source": [
    "%pip install tweepy\n",
    "%pip install python-decouple"
   ]
  },
  {
   "cell_type": "code",
   "execution_count": 4,
   "metadata": {},
   "outputs": [],
   "source": [
    "# import necessay packages\n",
    "import pandas as pd\n",
    "import tweepy as tw\n",
    "from decouple import config"
   ]
  },
  {
   "cell_type": "code",
   "execution_count": 5,
   "metadata": {},
   "outputs": [],
   "source": [
    "# config\n",
    "consumer_key = config('CONSUMER_KEY')\n",
    "consumer_secret = config('CONSUMER_SECRET')\n",
    "access_token = config('ACCESS_TOKEN')\n",
    "access_token_secret = config('ACCESS_TOKEN_SECRET')"
   ]
  },
  {
   "cell_type": "code",
   "execution_count": 13,
   "metadata": {},
   "outputs": [],
   "source": [
    "# connect API\n",
    "permission = tw.OAuthHandler(consumer_key, consumer_secret) # this object of ours will load the authorization request\n",
    "permission.set_access_token(access_token, access_token_secret) # get ownership of our access object\n",
    " \n",
    "api = tw.API(permission) # use the API class, native to the library to generate the connection\n",
    "coke_tweets = api.search_tweets(q='coca cola') # this means that the 20 most recent publications that appear on my profile will be stored in the variable"
   ]
  },
  {
   "cell_type": "code",
   "execution_count": 14,
   "metadata": {},
   "outputs": [
    {
     "name": "stdout",
     "output_type": "stream",
     "text": [
      "Tengo unas perras ganas de una coca cola , pero tengo que dejar el vicio 😒💔\n",
      "Greetings fellow humans! Today we have everyone's favorite harmful company Coca Cola is partially responsible for H… https://t.co/ELWpBspunw\n",
      "@Medicilio Tragando pan, pasta, como proteina compra jamón en vez de carne o pollo, lo unico decente el paquete de… https://t.co/NGzid8bmrD\n",
      "Combinação perfeita churrasco com Coca cola gelada 🤯❤️‍🔥 https://t.co/M5gR8ySUGi\n",
      "@Freelineorlando @Tico_Romao @SpyLovedMeToo @JaneNightshade @roger_bakes @OldCarLongRoad @MarkBringelson… https://t.co/JKnaDB80kD\n",
      "RT @jacksonwworld: JACKSON WANG SOLD OUT 🔥 \n",
      "\n",
      "-19K capacity NYC Barkley Center \n",
      "-8k capacity Coca-Cola Coliseum  \n",
      "\n",
      "UNDER 30 MINUTES 😱 https:…\n",
      "RT @thebonaberiman: On a tous entendu du jour au lendemain que\n",
      "Castel et Coca-cola divorçaient après 59 ans de partenariat.\n",
      "\n",
      "Pourquoi ?\n",
      "Com…\n",
      "@callodehacha Tienes toda la razón, la coca cola daña mucho la salud. https://t.co/Q7rLrDonmb\n",
      "https://t.co/kKUGMjqLHW\n",
      "RT @jacksonwworld: JACKSON WANG SOLD OUT 🔥 \n",
      "\n",
      "-19K capacity NYC Barkley Center \n",
      "-8k capacity Coca-Cola Coliseum  \n",
      "\n",
      "UNDER 30 MINUTES 😱 https:…\n",
      "RT @callodehacha: Acá entre nos, la que deberían prohibir no nomás en México, sino en el mundo es la coca cola, pero ustedes no están listo…\n",
      "Moradores da Coca-Cola encontram corpo boiando às margens do Tocantins\n",
      "https://t.co/VwMvmmU5CL https://t.co/CeEec09Gpp\n",
      "Riquelme es como esa persona que dice para que coca cola si Manaos es lo mismo y trae a roncaglia de envés de renovar a  izquierdoz.\n",
      "RT @DiegoASantos: ¿Otra de Petro? En Davos tenía reuniones con presidentes de Coca Cola, Microsoft y Enel, para discutir inversiones en Col…\n",
      "RT @jacksonwworld: JACKSON WANG SOLD OUT 🔥 \n",
      "\n",
      "-19K capacity NYC Barkley Center \n",
      "-8k capacity Coca-Cola Coliseum  \n",
      "\n",
      "UNDER 30 MINUTES 😱 https:…\n"
     ]
    }
   ],
   "source": [
    "for twitters in coke_tweets:\n",
    "    print(twitters.text)"
   ]
  },
  {
   "cell_type": "code",
   "execution_count": null,
   "metadata": {},
   "outputs": [],
   "source": []
  }
 ],
 "metadata": {
  "kernelspec": {
   "display_name": "Python 3",
   "language": "python",
   "name": "python3"
  },
  "language_info": {
   "codemirror_mode": {
    "name": "ipython",
    "version": 3
   },
   "file_extension": ".py",
   "mimetype": "text/x-python",
   "name": "python",
   "nbconvert_exporter": "python",
   "pygments_lexer": "ipython3",
   "version": "3.11.1"
  },
  "orig_nbformat": 4,
  "vscode": {
   "interpreter": {
    "hash": "49ef7ca59f3f09002a143d530e430c26b374a876365c25f5f40c472cf45f8ccd"
   }
  }
 },
 "nbformat": 4,
 "nbformat_minor": 2
}
